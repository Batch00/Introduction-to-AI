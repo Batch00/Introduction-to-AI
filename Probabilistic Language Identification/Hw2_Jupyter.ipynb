{
 "cells": [
  {
   "cell_type": "code",
   "execution_count": 82,
   "metadata": {},
   "outputs": [],
   "source": [
    "import hw2"
   ]
  },
  {
   "cell_type": "code",
   "execution_count": 83,
   "metadata": {},
   "outputs": [
    {
     "name": "stdout",
     "output_type": "stream",
     "text": [
      "Q1\n",
      "A 0\n",
      "B 0\n",
      "C 0\n",
      "D 0\n",
      "E 0\n",
      "F 0\n",
      "G 1\n",
      "H 1\n",
      "I 2\n",
      "J 0\n",
      "K 0\n",
      "L 2\n",
      "M 0\n",
      "N 0\n",
      "O 1\n",
      "P 0\n",
      "Q 0\n",
      "R 0\n",
      "S 0\n",
      "T 0\n",
      "U 0\n",
      "V 0\n",
      "W 0\n",
      "X 0\n",
      "Y 0\n",
      "Z 0\n",
      "\n"
     ]
    }
   ],
   "source": [
    "hw2.shred(\"letter.txt\")"
   ]
  },
  {
   "cell_type": "code",
   "execution_count": 84,
   "metadata": {},
   "outputs": [
    {
     "name": "stdout",
     "output_type": "stream",
     "text": [
      "Q1\n",
      "A 0\n",
      "B 0\n",
      "C 0\n",
      "D 0\n",
      "E 0\n",
      "F 0\n",
      "G 1\n",
      "H 1\n",
      "I 2\n",
      "J 0\n",
      "K 0\n",
      "L 2\n",
      "M 0\n",
      "N 0\n",
      "O 1\n",
      "P 0\n",
      "Q 0\n",
      "R 0\n",
      "S 0\n",
      "T 0\n",
      "U 0\n",
      "V 0\n",
      "W 0\n",
      "X 0\n",
      "Y 0\n",
      "Z 0\n"
     ]
    }
   ],
   "source": [
    "counts_list = []\n",
    "def shred(filename):\n",
    "    #Using a dictionary here. You may change this to any data structure of\n",
    "    #your choice such as lists (X=[]) etc. for the assignment\n",
    "    letter_counts = [0] * 26\n",
    "    counters = \"\"\n",
    "    with open (filename,encoding='utf-8') as file:\n",
    "        # TODO: add your code here\n",
    "        text = file.read().lower()\n",
    "        for char in text:\n",
    "            if ord('a') <= ord(char) <= ord('z'):\n",
    "                letter_counts[ord(char) - ord('a')] += 1\n",
    "\n",
    "    for i, count in enumerate(letter_counts):\n",
    "        if i == 25:\n",
    "            counters += chr(i + ord('A')) + ' ' + str(count)\n",
    "        else:\n",
    "            counters += chr(i + ord('A')) + ' ' + str(count) + '\\n'\n",
    "        counts_list.append(count)\n",
    "\n",
    "    return print('Q1\\n' + counters)\n",
    "\n",
    "shred(\"letter.txt\")\n"
   ]
  },
  {
   "cell_type": "code",
   "execution_count": 85,
   "metadata": {},
   "outputs": [
    {
     "name": "stdout",
     "output_type": "stream",
     "text": [
      "Q2\n",
      "-0.0000\n",
      "-0.0000\n"
     ]
    }
   ],
   "source": [
    "import math\n",
    "e1 = math.log(hw2.get_parameter_vectors()[0][0])\n",
    "s1 = math.log(hw2.get_parameter_vectors()[1][0])\n",
    "\n",
    "\n",
    "e = \"{:.4f}\".format(round(counts_list[0] * e1, 4))\n",
    "s = \"{:.4f}\".format(round(counts_list[0] * s1, 4))\n",
    "\n",
    "print('Q2\\n' + e + '\\n' + s)"
   ]
  },
  {
   "cell_type": "code",
   "execution_count": 95,
   "metadata": {},
   "outputs": [
    {
     "name": "stdout",
     "output_type": "stream",
     "text": [
      "-21.5437\n",
      "-23.8755\n"
     ]
    }
   ],
   "source": [
    "eng = hw2.get_parameter_vectors()[0]\n",
    "spa = hw2.get_parameter_vectors()[1]\n",
    "\n",
    "eng_sum = sum([math.log(eng[i]) * counts_list[i] for i in range(len(counts_list))])\n",
    "spa_sum = sum([math.log(spa[i]) * counts_list[i] for i in range(len(counts_list))])\n",
    "\n",
    "F_english = \"{:.4f}\".format(round(math.log(.6) + eng_sum, 4))\n",
    "F_spanish = \"{:.4f}\".format(round(math.log(.4) + spa_sum, 4))\n",
    "\n",
    "print(F_english)\n",
    "print(F_spanish)"
   ]
  },
  {
   "cell_type": "code",
   "execution_count": 104,
   "metadata": {},
   "outputs": [
    {
     "data": {
      "text/plain": [
       "'0.9115'"
      ]
     },
     "execution_count": 104,
     "metadata": {},
     "output_type": "execute_result"
    }
   ],
   "source": [
    "final = 0\n",
    "\n",
    "if float(F_spanish) - float(F_english) >= 100:\n",
    "    final = 0\n",
    "elif float(F_spanish) - float(F_english) <= -100:\n",
    "    final = 1\n",
    "else:\n",
    "    final = 1 / (1 + math.exp(float(F_spanish) - float(F_english)))\n",
    "\n",
    "\"{:.4f}\".format(round(final, 4))"
   ]
  }
 ],
 "metadata": {
  "kernelspec": {
   "display_name": "Python 3.8.8 ('base')",
   "language": "python",
   "name": "python3"
  },
  "language_info": {
   "codemirror_mode": {
    "name": "ipython",
    "version": 3
   },
   "file_extension": ".py",
   "mimetype": "text/x-python",
   "name": "python",
   "nbconvert_exporter": "python",
   "pygments_lexer": "ipython3",
   "version": "3.8.8"
  },
  "orig_nbformat": 4,
  "vscode": {
   "interpreter": {
    "hash": "0d0ccf587ccf231d822eadba3da9580e52d8931dde7e00d6ec6fd5d8a0b2d5e3"
   }
  }
 },
 "nbformat": 4,
 "nbformat_minor": 2
}
