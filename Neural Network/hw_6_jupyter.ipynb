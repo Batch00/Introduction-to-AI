{
 "cells": [
  {
   "cell_type": "code",
   "execution_count": 2,
   "metadata": {},
   "outputs": [],
   "source": [
    "import torch\n",
    "import torch.nn as nn\n",
    "import torch.nn.functional as F\n",
    "import torch.optim as optim\n",
    "from torchvision import datasets, transforms"
   ]
  },
  {
   "cell_type": "code",
   "execution_count": 3,
   "metadata": {},
   "outputs": [],
   "source": [
    "custom_transform= transforms.Compose([ transforms.ToTensor(), transforms.Normalize((0.1307,), (0.3081,))])\n",
    "\n",
    "train_set=datasets.FashionMNIST('./data', train=True, download=True,transform=custom_transform)\n",
    "test_set=datasets.FashionMNIST('./data', train=False, transform=custom_transform)"
   ]
  },
  {
   "cell_type": "code",
   "execution_count": 4,
   "metadata": {},
   "outputs": [],
   "source": [
    "loader = torch.utils.data.DataLoader(train_set, batch_size = 64)"
   ]
  },
  {
   "cell_type": "code",
   "execution_count": 5,
   "metadata": {},
   "outputs": [],
   "source": [
    "def get_data_loader(data_set = True):\n",
    "    if data_set == True:\n",
    "        loader = torch.utils.data.DataLoader(train_set, batch_size = 64)\n",
    "    elif data_set == False:\n",
    "        loader = torch.utils.data.DataLoader(test_set, batch_size = 64)\n",
    "    else:\n",
    "        loader = \"train set = True, test set = False\"\n",
    "\n",
    "    return loader"
   ]
  },
  {
   "cell_type": "code",
   "execution_count": 19,
   "metadata": {},
   "outputs": [
    {
     "name": "stdout",
     "output_type": "stream",
     "text": [
      "<class 'torch.utils.data.dataloader.DataLoader'>\n",
      "Dataset FashionMNIST\n",
      "    Number of datapoints: 60000\n",
      "    Root location: ./data\n",
      "    Split: Train\n",
      "    StandardTransform\n",
      "Transform: Compose(\n",
      "               ToTensor()\n",
      "               Normalize(mean=(0.1307,), std=(0.3081,))\n",
      "           )\n"
     ]
    }
   ],
   "source": [
    "train_loader = get_data_loader(True)\n",
    "test_loader = get_data_loader(False)\n",
    "print(type(train_loader))\n",
    "print(train_loader.dataset)"
   ]
  },
  {
   "cell_type": "code",
   "execution_count": 20,
   "metadata": {},
   "outputs": [
    {
     "name": "stdout",
     "output_type": "stream",
     "text": [
      "Sequential(\n",
      "  (0): Flatten(start_dim=1, end_dim=-1)\n",
      "  (1): Linear(in_features=784, out_features=128, bias=True)\n",
      "  (2): ReLU()\n",
      "  (3): Linear(in_features=128, out_features=64, bias=True)\n",
      "  (4): ReLU()\n",
      "  (5): Linear(in_features=64, out_features=10, bias=True)\n",
      ")\n"
     ]
    }
   ],
   "source": [
    "model = nn.Sequential(nn.Flatten(),\n",
    "                    nn.Linear(784, 128), # 28x28 = 784 (input), 128 (output)\n",
    "                    nn.ReLU(),\n",
    "                    nn.Linear(128, 64), # 128 (input), 64 (output)\n",
    "                    nn.ReLU(),\n",
    "                    nn.Linear(64, 10) # 64 (input), 10 (output)\n",
    "                    )\n",
    "\n",
    "print(model)\n"
   ]
  },
  {
   "cell_type": "code",
   "execution_count": 27,
   "metadata": {},
   "outputs": [
    {
     "name": "stdout",
     "output_type": "stream",
     "text": [
      "Train Epoch: 0 Accuracy: 41692/60000 (69.49%) Loss: 0.901\n",
      "Train Epoch: 1 Accuracy: 49252/60000 (82.09%) Loss: 0.512\n",
      "Train Epoch: 2 Accuracy: 50413/60000 (84.02%) Loss: 0.454\n",
      "Train Epoch: 3 Accuracy: 51043/60000 (85.07%) Loss: 0.423\n",
      "Train Epoch: 4 Accuracy: 51482/60000 (85.80%) Loss: 0.401\n"
     ]
    }
   ],
   "source": [
    "def train_model(model, train_loader, criterion, T):\n",
    "    for epoch in range(T):\n",
    "        # Set the model to train mode\n",
    "        optimizer = optim.SGD(model.parameters(), lr=0.001, momentum=0.9)\n",
    "        model.train()\n",
    "        \n",
    "        # Initialize the loss and accuracy for this epoch\n",
    "        epoch_loss = 0.0\n",
    "        epoch_correct = 0\n",
    "        \n",
    "        for i, (images, labels) in enumerate(train_loader):\n",
    "            # Zero the gradients\n",
    "            optimizer.zero_grad()\n",
    "            \n",
    "            # Forward pass\n",
    "            outputs = model(images)\n",
    "            loss = criterion(outputs, labels)\n",
    "            \n",
    "            # Backward pass and optimization\n",
    "            loss.backward()\n",
    "            optimizer.step()\n",
    "            # Update the epoch loss and accuracy\n",
    "            epoch_loss += loss.item() * images.shape[0]\n",
    "            _, predictions = torch.max(outputs.data, 1)\n",
    "            epoch_correct += (predictions == labels).sum().item()\n",
    "        \n",
    "        # Print the training status for this epoch\n",
    "        epoch_loss /= len(train_loader.dataset)\n",
    "        epoch_acc = 100.0 * epoch_correct / len(train_loader.dataset)\n",
    "        print('Train Epoch: {} Accuracy: {}/{} ({:.2f}%) Loss: {:.3f}'.format(\n",
    "            epoch, epoch_correct, len(train_loader.dataset), epoch_acc, epoch_loss))\n",
    "        \n",
    "T = 5\n",
    "criterion = nn.CrossEntropyLoss()\n",
    "train_model(model, train_loader, criterion, T)"
   ]
  },
  {
   "cell_type": "code",
   "execution_count": 30,
   "metadata": {},
   "outputs": [
    {
     "name": "stdout",
     "output_type": "stream",
     "text": [
      "Accuracy: 84.69%\n",
      "Average loss: 0.4253\n",
      "Accuracy: 84.69%\n"
     ]
    }
   ],
   "source": [
    "def evaluate_model(model, test_loader, criterion, show_loss=True):\n",
    "    model.eval()\n",
    "    test_loss = 0.0\n",
    "    correct = 0\n",
    "    with torch.no_grad():\n",
    "        for images, labels in test_loader:\n",
    "            outputs = model(images)\n",
    "            test_loss += criterion(outputs, labels).item() * images.shape[0]\n",
    "            _, predictions = torch.max(outputs.data, 1)\n",
    "            correct += (predictions == labels).sum().item()\n",
    "\n",
    "    test_loss /= len(test_loader.dataset)\n",
    "    test_acc = 100.0 * correct / len(test_loader.dataset)\n",
    "\n",
    "    if show_loss:\n",
    "        print('Average loss: {:.4f}'.format(test_loss))\n",
    "    print('Accuracy: {:.2f}%'.format(test_acc))\n",
    "\n",
    "evaluate_model(model, test_loader, criterion, show_loss=False)\n",
    "evaluate_model(model, test_loader, criterion, show_loss=True)"
   ]
  },
  {
   "cell_type": "code",
   "execution_count": 50,
   "metadata": {},
   "outputs": [
    {
     "name": "stdout",
     "output_type": "stream",
     "text": [
      "Pullover: 96.51%\n",
      "Shirt: 2.71%\n",
      "Coat: 0.69%\n"
     ]
    }
   ],
   "source": [
    "def predict_label(model, test_images, index):\n",
    "    class_names = ['T-shirt/top','Trouser','Pullover','Dress','Coat','Sandal','Shirt'\n",
    "                    ,'Sneaker','Bag','Ankle Boot']\n",
    "    \n",
    "    model.eval()\n",
    "    with torch.no_grad():\n",
    "        output = model(test_images[index])\n",
    "        prob = F.softmax(output, dim=1)\n",
    "        values, indices = prob.topk(3)\n",
    "        for i in range(3):\n",
    "            print('{}: {:.2f}%'.format(class_names[indices[0][i]], values[0][i]*100))\n",
    "\n",
    "test_images, test_labels = next(iter(test_loader))\n",
    "predict_label(model, test_images, 1)"
   ]
  }
 ],
 "metadata": {
  "kernelspec": {
   "display_name": "Python 3 (ipykernel)",
   "language": "python",
   "name": "python3"
  },
  "language_info": {
   "codemirror_mode": {
    "name": "ipython",
    "version": 3
   },
   "file_extension": ".py",
   "mimetype": "text/x-python",
   "name": "python",
   "nbconvert_exporter": "python",
   "pygments_lexer": "ipython3",
   "version": "3.10.6"
  },
  "orig_nbformat": 4,
  "vscode": {
   "interpreter": {
    "hash": "e42cf8cd0fa13cfae48b3225a3da613aa1f603b0245cf50ce8b9b4c2284a7b97"
   }
  }
 },
 "nbformat": 4,
 "nbformat_minor": 2
}
